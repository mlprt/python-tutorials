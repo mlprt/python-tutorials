{
 "cells": [
  {
   "cell_type": "code",
   "execution_count": 23,
   "metadata": {},
   "outputs": [],
   "source": [
    "import time\n",
    "\n",
    "import numpy as np"
   ]
  },
  {
   "cell_type": "markdown",
   "metadata": {},
   "source": [
    "# Python & asterisks"
   ]
  },
  {
   "cell_type": "markdown",
   "metadata": {},
   "source": [
    "Note: Jupyter notebook prints the output of the last thing that executes in a cell, that isn't assigned to a variable. This is why I can avoid using `print` in most cases."
   ]
  },
  {
   "cell_type": "markdown",
   "metadata": {},
   "source": [
    "Note: This tutorial applies to Python 3.5+; there may be some slight differences in behaviour versus Python 2.7."
   ]
  },
  {
   "cell_type": "markdown",
   "metadata": {},
   "source": [
    "This is a tutorial giving some examples on the usage of the asterisk (*) in Python."
   ]
  },
  {
   "cell_type": "markdown",
   "metadata": {},
   "source": [
    "### Multiply"
   ]
  },
  {
   "cell_type": "markdown",
   "metadata": {},
   "source": [
    "The first major use of the asterisk is, of course, for multiplication:"
   ]
  },
  {
   "cell_type": "code",
   "execution_count": 2,
   "metadata": {
    "scrolled": true
   },
   "outputs": [
    {
     "data": {
      "text/plain": [
       "(2.4+6.2j)"
      ]
     },
     "execution_count": 2,
     "metadata": {},
     "output_type": "execute_result"
    }
   ],
   "source": [
    "(1.2 + 3.1j) * 2  # complex number multiplied by an integer"
   ]
  },
  {
   "cell_type": "markdown",
   "metadata": {},
   "source": [
    "We can also \"multiply\" strings and iterables:"
   ]
  },
  {
   "cell_type": "code",
   "execution_count": 3,
   "metadata": {},
   "outputs": [
    {
     "data": {
      "text/plain": [
       "[1,\n",
       " 'hihihi',\n",
       " array([0., 0., 0., 0., 0.]),\n",
       " 1,\n",
       " 'hihihi',\n",
       " array([0., 0., 0., 0., 0.])]"
      ]
     },
     "execution_count": 3,
     "metadata": {},
     "output_type": "execute_result"
    }
   ],
   "source": [
    "a = [1, \"hi\" * 3, np.zeros(5)] * 2\n",
    "\n",
    "a  "
   ]
  },
  {
   "cell_type": "markdown",
   "metadata": {},
   "source": [
    "The call to `np.zeros` is made before the list is doubled, and both the above arrays refer to the same memory locations:"
   ]
  },
  {
   "cell_type": "code",
   "execution_count": 4,
   "metadata": {
    "scrolled": true
   },
   "outputs": [
    {
     "name": "stdout",
     "output_type": "stream",
     "text": [
      "True\n"
     ]
    },
    {
     "data": {
      "text/plain": [
       "[1,\n",
       " 'hihihi',\n",
       " array([3.14159265, 0.        , 0.        , 0.        , 0.        ]),\n",
       " 1,\n",
       " 'hihihi',\n",
       " array([3.14159265, 0.        , 0.        , 0.        , 0.        ])]"
      ]
     },
     "execution_count": 4,
     "metadata": {},
     "output_type": "execute_result"
    }
   ],
   "source": [
    "a[2][0] = np.pi\n",
    "\n",
    "print(a[2][0] == a[5][0])\n",
    "\n",
    "a"
   ]
  },
  {
   "cell_type": "markdown",
   "metadata": {},
   "source": [
    "It's worth mentioning that it's possible to define how the multiplication operator behaves for a class by overriding the methods `__mult__` and `__rmult__`, though I've never used this myself. See [this StackOverflow answer](https://stackoverflow.com/questions/5181320/under-what-circumstances-are-rmul-called/5182501#5182501) for an explanation of the difference between these.\n",
    "\n",
    "For example, let's make a class that uses `*` as the matrix multiplication operator. (Normally, NumPy arrays use `*` for elementwise multiplication and `@` for matrix multiplication.)"
   ]
  },
  {
   "cell_type": "code",
   "execution_count": 27,
   "metadata": {},
   "outputs": [
    {
     "name": "stdout",
     "output_type": "stream",
     "text": [
      "[[1. 0. 0. 0. 0.]\n",
      " [0. 1. 0. 0. 0.]\n",
      " [0. 0. 1. 0. 0.]\n",
      " [0. 0. 0. 1. 0.]\n",
      " [0. 0. 0. 0. 1.]]\n",
      "[[1. 1. 1. 1. 1.]\n",
      " [1. 2. 2. 2. 2.]\n",
      " [1. 2. 3. 3. 3.]\n",
      " [1. 2. 3. 4. 4.]\n",
      " [1. 2. 3. 4. 5.]]\n",
      "[[5. 4. 3. 2. 1.]\n",
      " [4. 4. 3. 2. 1.]\n",
      " [3. 3. 3. 2. 1.]\n",
      " [2. 2. 2. 2. 1.]\n",
      " [1. 1. 1. 1. 1.]]\n"
     ]
    }
   ],
   "source": [
    "class MulMatrix:\n",
    "    def __init__(self, A):\n",
    "        self.A = np.array(A)\n",
    "        \n",
    "    def __mul__(self, other):\n",
    "        return self.A @ other.A\n",
    "    \n",
    "    # we don't need to define __rmul__ as long as both arguments to the operator are MulMatrix instances,\n",
    "    # as Python first tries to apply the leftmost argument's __mul__ method, and this always succeeds\n",
    "    # when the rightmost argument is also a MulMatrix\n",
    "\n",
    "# tril and triu are NumPy methods that return lower and upper triangular matrices\n",
    "lower = np.tril(np.ones((5, 5)))  \n",
    "upper = np.triu(np.ones((5, 5)))\n",
    "\n",
    "lower_mat = MulMatrix(lower)\n",
    "upper_mat = MulMatrix(upper)\n",
    "\n",
    "print(lower * upper)\n",
    "print(lower_mat * upper_mat)\n",
    "print(upper_mat * lower_mat)"
   ]
  },
  {
   "cell_type": "markdown",
   "metadata": {},
   "source": [
    "### Splat"
   ]
  },
  {
   "cell_type": "markdown",
   "metadata": {},
   "source": [
    "The second major category of use is as the \"splat\" operator, which packs or unpacks function arguments. For example,"
   ]
  },
  {
   "cell_type": "code",
   "execution_count": 37,
   "metadata": {},
   "outputs": [
    {
     "name": "stdout",
     "output_type": "stream",
     "text": [
      "(1, 2, 3, 4, 5)\n",
      "15\n"
     ]
    }
   ],
   "source": [
    "# whatever arguments are passed to `f` are packed in `args` (a tuple, i.e. immutable list)\n",
    "def f(*args):\n",
    "    print(args)\n",
    "    return sum(args)\n",
    "\n",
    "f(1, 2, 3, 4, 5)"
   ]
  },
  {
   "cell_type": "markdown",
   "metadata": {},
   "source": [
    "A function's _parameters_ are the placeholders in their definition, while _arguments_ are the objects actually passed to it. In this case, the parameter is `args`, plus the splat operator. The arguments in the function call are `1, 2, 3, 4, 5`. \n",
    "\n",
    "If the asterisk is put before an argument instead of a parameter, it unpacks the argument. For example, by placing the arguments in a list, the above function call is equivalent to:"
   ]
  },
  {
   "cell_type": "code",
   "execution_count": 38,
   "metadata": {},
   "outputs": [
    {
     "name": "stdout",
     "output_type": "stream",
     "text": [
      "(1, 2, 3, 4, 5)\n",
      "15\n"
     ]
    }
   ],
   "source": [
    "b = [1, 2, 3, 4, 5]\n",
    "\n",
    "f(*b)"
   ]
  },
  {
   "cell_type": "markdown",
   "metadata": {},
   "source": [
    "The single splat is useful when an arbitrary number of arguments are all treated similarly by the function, except perhaps for their ordering. For example, it can be used in a function that concatenates strings:"
   ]
  },
  {
   "cell_type": "code",
   "execution_count": 31,
   "metadata": {},
   "outputs": [
    {
     "data": {
      "text/plain": [
       "'Hello world'"
      ]
     },
     "execution_count": 31,
     "metadata": {},
     "output_type": "execute_result"
    }
   ],
   "source": [
    "def concatenate(*args):\n",
    "    # I'd normally use ''.join directly, though\n",
    "    return ''.join(args)\n",
    "\n",
    "concatenate(\"Hello\", \" \", \"world\")"
   ]
  },
  {
   "cell_type": "markdown",
   "metadata": {},
   "source": [
    "For the same reason, it may be useful for numerical functions when it is desirable to pass a bunch of values as arguments:"
   ]
  },
  {
   "cell_type": "code",
   "execution_count": 60,
   "metadata": {},
   "outputs": [
    {
     "data": {
      "text/plain": [
       "3.5"
      ]
     },
     "execution_count": 60,
     "metadata": {},
     "output_type": "execute_result"
    }
   ],
   "source": [
    "def mean(*args):\n",
    "    return sum(args) / len(args)\n",
    "\n",
    "mean(1, 2, 3, 4, 5, 6)"
   ]
  },
  {
   "cell_type": "markdown",
   "metadata": {},
   "source": [
    "I don't use the single splat much in practice, as I will typically pass a list (or other iterable) rather than passing multiple arguments:"
   ]
  },
  {
   "cell_type": "code",
   "execution_count": 33,
   "metadata": {},
   "outputs": [
    {
     "data": {
      "text/plain": [
       "3.5"
      ]
     },
     "execution_count": 33,
     "metadata": {},
     "output_type": "execute_result"
    }
   ],
   "source": [
    "def mean(args):\n",
    "    return sum(args) / len(args)\n",
    "\n",
    "values = [1, 2, 3, 4, 5, 6]\n",
    "mean(values)"
   ]
  },
  {
   "cell_type": "markdown",
   "metadata": {},
   "source": [
    "The double splat operator `**` is used to pack and unpack dictionaries. When used on a parameter, this means packing *named* arguments:"
   ]
  },
  {
   "cell_type": "code",
   "execution_count": 47,
   "metadata": {
    "scrolled": true
   },
   "outputs": [
    {
     "name": "stdout",
     "output_type": "stream",
     "text": [
      "{'foo': 1, 'bar': -1}\n"
     ]
    },
    {
     "data": {
      "text/plain": [
       "{'foobar': 0}"
      ]
     },
     "execution_count": 47,
     "metadata": {},
     "output_type": "execute_result"
    }
   ],
   "source": [
    "def g(**kwargs):\n",
    "    print(kwargs)\n",
    "    return {''.join(kwargs.keys()): sum(kwargs.values())}\n",
    "\n",
    "g(foo=1, bar=-1)"
   ]
  },
  {
   "cell_type": "markdown",
   "metadata": {},
   "source": [
    "Likewise with arguments:"
   ]
  },
  {
   "cell_type": "code",
   "execution_count": 49,
   "metadata": {
    "scrolled": false
   },
   "outputs": [
    {
     "name": "stdout",
     "output_type": "stream",
     "text": [
      "{'foo': 100, 'bar': -100}\n"
     ]
    },
    {
     "data": {
      "text/plain": [
       "{'foobar': 0}"
      ]
     },
     "execution_count": 49,
     "metadata": {},
     "output_type": "execute_result"
    }
   ],
   "source": [
    "c = {'foo': 100, 'bar': -100}\n",
    "\n",
    "g(**c)"
   ]
  },
  {
   "cell_type": "markdown",
   "metadata": {},
   "source": [
    "The double splat can be useful to avoid repetition in function definitions with default arguments:"
   ]
  },
  {
   "cell_type": "code",
   "execution_count": 18,
   "metadata": {},
   "outputs": [
    {
     "data": {
      "text/plain": [
       "'Omar Smith'"
      ]
     },
     "execution_count": 18,
     "metadata": {},
     "output_type": "execute_result"
    }
   ],
   "source": [
    "def name_string(surname=\"Smith\", given_name=\"Omar\"):\n",
    "    #\n",
    "    return \"{} {}\".format(given_name, surname)\n",
    "\n",
    "name_string()"
   ]
  },
  {
   "cell_type": "code",
   "execution_count": 19,
   "metadata": {},
   "outputs": [
    {
     "data": {
      "text/plain": [
       "'Omar Khayyam, Persia'"
      ]
     },
     "execution_count": 19,
     "metadata": {},
     "output_type": "execute_result"
    }
   ],
   "source": [
    "def name_nation_string(nation=\"Persia\", **kwargs):\n",
    "    #\n",
    "    return \"{}, {}\".format(name_string(**kwargs), nation)\n",
    "\n",
    "name_nation_string(surname=\"Khayyam\")"
   ]
  },
  {
   "cell_type": "markdown",
   "metadata": {},
   "source": [
    "Here, when arguments with the keywords `surname` or `given_name` are passed to `name_nation_string`, they will be passed to name_string, and override its default arguments. \n",
    "\n",
    "Other keyword arguments (e.g. `birthdate=\"1048/05/18\"`) passed to `name_nation_string` will also be passed along to `name_string`, but in this case will raise an error; `name_string` takes arguments only for the two keywords mentioned earlier. But if we add `**kwargs` to the end of `name_string`'s parameter list as well, it will accept other keyword arguments passed from `name_nation_string`(or any other function). If `kwargs` isn't used in the function, either directly or by passing on to another, then it is simply ignored (i.e. it can capture superfluous arguments without raising an error, though this should be avoided unless there is an explicit reason for doing so)."
   ]
  },
  {
   "cell_type": "markdown",
   "metadata": {},
   "source": [
    "This example is very simple (we better need both of these functions) but `**kwargs` can be very useful in more structured settings; for example, it can be used in a class's constructor method(s) to prevent repeating the entire list of parameters and default arguments in the class's `__init__` method: "
   ]
  },
  {
   "cell_type": "code",
   "execution_count": null,
   "metadata": {},
   "outputs": [],
   "source": [
    "class PolymathHandler:\n",
    "    def __init__(self, given_name=None, surname=None, nation=\"Persia\", mathematician=True, poet=True):\n",
    "        self.given_name = given_name\n",
    "        self.surname = surname\n",
    "        self.nation = nation\n",
    "        # etc...\n",
    "        \n",
    "    @classmethod\n",
    "    def from_name_string(cls, name_string, **kwargs):\n",
    "        \"\"\"Given a full name string, split into given and surnames and continue with instantiation.\n",
    "        \n",
    "        Note the use of `**kwargs` rather than repeating `nation=\"Persia\", mathematician=True, poet=True`.\"\"\"\n",
    "        given_name, surname = name_string.split(' ')\n",
    "        # since this is a method of Spider, cls=Spider when the method is called, so this returns an instance\n",
    "        return cls(given_name=given_name, surname=surname, **kwargs)\n",
    "        "
   ]
  },
  {
   "cell_type": "markdown",
   "metadata": {},
   "source": [
    "Note the use of `@classmethod`, which is a built-in \"decorator\" that alters a methods to take their class (\"cls\" by convention) rather than the instance (\"self\") as the first argument. This allows class methods to behave as alternative constructors that return instances of the class. This is used similarly to constructor overloading (e.g. in Java) but requires that explicitly different names are used for different constructors.\n",
    "\n",
    "I mentioned \"decorators\". What are those, in general? Whenever a method (or function) definition is preceded by `@some_function`, this is equivalent to nesting the defined function inside the decorator function:"
   ]
  },
  {
   "cell_type": "code",
   "execution_count": null,
   "metadata": {
    "scrolled": false
   },
   "outputs": [],
   "source": [
    "@some_function\n",
    "def do_things(*args):\n",
    "    return args\n",
    "\n",
    "# the above is equivalent to:\n",
    "def do_things(*args):\n",
    "    return args\n",
    "\n",
    "do_things = some_function(do_things)\n",
    "\n",
    "# this will return an error since some_function is undefined; this is only a syntax example"
   ]
  },
  {
   "cell_type": "markdown",
   "metadata": {},
   "source": [
    "In other words, a decorator is a function wrapper; it takes a function and returns a function with modified behaviour. This can be used, for example, to time functions (by nesting it between calls to `time.time`) without needing to repeat the timing code in each function to be timed---the timing decorator needs to be defined once and can be applied to whichever functions need to be timed.\n",
    "\n",
    "To illustrate this, here's an example of a timing decorator:"
   ]
  },
  {
   "cell_type": "code",
   "execution_count": 26,
   "metadata": {},
   "outputs": [
    {
     "name": "stdout",
     "output_type": "stream",
     "text": [
      "1.0010981559753418\n"
     ]
    }
   ],
   "source": [
    "def print_exec_time(func):\n",
    "    \"\"\"Time the execution of `func` and print.\"\"\"\n",
    "    def wrapper(*args, **kwargs):\n",
    "        start_time = time.time()\n",
    "        result = func(*args, **kwargs)\n",
    "        exec_time = time.time() - start_time\n",
    "        print(exec_time)\n",
    "        return result\n",
    "    \n",
    "    return wrapper\n",
    "\n",
    "\n",
    "def wait(dur=1):\n",
    "    time.sleep(dur)\n",
    "    \n",
    "# instead of using the `@` notation above, apply the decorator explicitly:  \n",
    "wait = print_exec_time(wait)  # returns \"wrapper\" which replaces the original \"wait\"\n",
    "    \n",
    "wait(1)"
   ]
  },
  {
   "cell_type": "markdown",
   "metadata": {},
   "source": [
    "If you've never seen decorators this nested definition might be confusing. When the decorator `@print_exec_time` is applied to a function or method, it \"replaces\" the definition of that function with `wrapper`, which calls (and returns the same value as) the original function along with any number of additional operations (in this case, calling `time.time` before and after the function call). This decorator can be applied functions with any number of positional or named arguments; the `wrapper` simply captures anything that would have been sent to the undecorated function, using `*args` and `**kwargs`, and passes it along."
   ]
  },
  {
   "cell_type": "markdown",
   "metadata": {},
   "source": [
    "Finally, note that the variables `args` and `kwargs` are only conventions, and other names can be used in the same way, though this is generally bad for readability. I suppose if the extra arguments will (for example) always be passed to a specific function, more descriptive names could be used, though I have never done this."
   ]
  }
 ],
 "metadata": {
  "kernelspec": {
   "display_name": "Python 3",
   "language": "python",
   "name": "python3"
  },
  "language_info": {
   "codemirror_mode": {
    "name": "ipython",
    "version": 3
   },
   "file_extension": ".py",
   "mimetype": "text/x-python",
   "name": "python",
   "nbconvert_exporter": "python",
   "pygments_lexer": "ipython3",
   "version": "3.6.5"
  }
 },
 "nbformat": 4,
 "nbformat_minor": 2
}
